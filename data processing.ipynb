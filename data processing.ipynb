{
 "cells": [
  {
   "cell_type": "markdown",
   "metadata": {},
   "source": [
    "# 데이터 전처리"
   ]
  },
  {
   "cell_type": "markdown",
   "metadata": {},
   "source": [
    "## 1. 데이터불러오기"
   ]
  },
  {
   "cell_type": "code",
   "execution_count": 1,
   "metadata": {},
   "outputs": [],
   "source": [
    "import pandas as pd\n",
    "import numpy as np"
   ]
  },
  {
   "cell_type": "code",
   "execution_count": 2,
   "metadata": {},
   "outputs": [],
   "source": [
    "data = pd.read_excel('C:/Users/lucky/바탕 화면/데이터분석캡스톤디자인/데이터/국민건강영양조사/hn18_rawdata.xlsx',header=0)"
   ]
  },
  {
   "cell_type": "code",
   "execution_count": 3,
   "metadata": {},
   "outputs": [
    {
     "data": {
      "text/html": [
       "<div>\n",
       "<style scoped>\n",
       "    .dataframe tbody tr th:only-of-type {\n",
       "        vertical-align: middle;\n",
       "    }\n",
       "\n",
       "    .dataframe tbody tr th {\n",
       "        vertical-align: top;\n",
       "    }\n",
       "\n",
       "    .dataframe thead th {\n",
       "        text-align: right;\n",
       "    }\n",
       "</style>\n",
       "<table border=\"1\" class=\"dataframe\">\n",
       "  <thead>\n",
       "    <tr style=\"text-align: right;\">\n",
       "      <th></th>\n",
       "      <th>Unnamed: 0</th>\n",
       "      <th>mod_d</th>\n",
       "      <th>ID</th>\n",
       "      <th>ID_fam</th>\n",
       "      <th>year</th>\n",
       "      <th>region</th>\n",
       "      <th>town_t</th>\n",
       "      <th>apt_t</th>\n",
       "      <th>psu</th>\n",
       "      <th>sex</th>\n",
       "      <th>...</th>\n",
       "      <th>N_VA_RAE</th>\n",
       "      <th>N_CAROT</th>\n",
       "      <th>N_RETIN</th>\n",
       "      <th>N_B1</th>\n",
       "      <th>N_B2</th>\n",
       "      <th>N_NIAC</th>\n",
       "      <th>N_VITC</th>\n",
       "      <th>LF_secur_y</th>\n",
       "      <th>LF_BUYER</th>\n",
       "      <th>LF_SAFE</th>\n",
       "    </tr>\n",
       "  </thead>\n",
       "  <tbody>\n",
       "    <tr>\n",
       "      <th>0</th>\n",
       "      <td>1</td>\n",
       "      <td>2020.03.05.</td>\n",
       "      <td>A901020501</td>\n",
       "      <td>A9010205</td>\n",
       "      <td>2018</td>\n",
       "      <td>1</td>\n",
       "      <td>1</td>\n",
       "      <td>2</td>\n",
       "      <td>A901</td>\n",
       "      <td>1</td>\n",
       "      <td>...</td>\n",
       "      <td>115.820413</td>\n",
       "      <td>494.382289</td>\n",
       "      <td>74.621889</td>\n",
       "      <td>0.664332</td>\n",
       "      <td>0.509876</td>\n",
       "      <td>4.700086</td>\n",
       "      <td>5.846040</td>\n",
       "      <td>1.0</td>\n",
       "      <td>2.0</td>\n",
       "      <td>1.0</td>\n",
       "    </tr>\n",
       "    <tr>\n",
       "      <th>1</th>\n",
       "      <td>2</td>\n",
       "      <td>2020.03.05.</td>\n",
       "      <td>A901021301</td>\n",
       "      <td>A9010213</td>\n",
       "      <td>2018</td>\n",
       "      <td>1</td>\n",
       "      <td>1</td>\n",
       "      <td>2</td>\n",
       "      <td>A901</td>\n",
       "      <td>1</td>\n",
       "      <td>...</td>\n",
       "      <td>197.537509</td>\n",
       "      <td>928.975532</td>\n",
       "      <td>120.122882</td>\n",
       "      <td>1.175553</td>\n",
       "      <td>1.217959</td>\n",
       "      <td>16.821098</td>\n",
       "      <td>109.102194</td>\n",
       "      <td>1.0</td>\n",
       "      <td>1.0</td>\n",
       "      <td>1.0</td>\n",
       "    </tr>\n",
       "    <tr>\n",
       "      <th>2</th>\n",
       "      <td>3</td>\n",
       "      <td>2020.03.05.</td>\n",
       "      <td>A901021302</td>\n",
       "      <td>A9010213</td>\n",
       "      <td>2018</td>\n",
       "      <td>1</td>\n",
       "      <td>1</td>\n",
       "      <td>2</td>\n",
       "      <td>A901</td>\n",
       "      <td>2</td>\n",
       "      <td>...</td>\n",
       "      <td>601.616567</td>\n",
       "      <td>4168.181635</td>\n",
       "      <td>254.268098</td>\n",
       "      <td>0.638100</td>\n",
       "      <td>1.337223</td>\n",
       "      <td>4.785608</td>\n",
       "      <td>96.546711</td>\n",
       "      <td>1.0</td>\n",
       "      <td>1.0</td>\n",
       "      <td>1.0</td>\n",
       "    </tr>\n",
       "    <tr>\n",
       "      <th>3</th>\n",
       "      <td>4</td>\n",
       "      <td>2020.03.05.</td>\n",
       "      <td>A901022601</td>\n",
       "      <td>A9010226</td>\n",
       "      <td>2018</td>\n",
       "      <td>1</td>\n",
       "      <td>1</td>\n",
       "      <td>2</td>\n",
       "      <td>A901</td>\n",
       "      <td>2</td>\n",
       "      <td>...</td>\n",
       "      <td>NaN</td>\n",
       "      <td>NaN</td>\n",
       "      <td>NaN</td>\n",
       "      <td>NaN</td>\n",
       "      <td>NaN</td>\n",
       "      <td>NaN</td>\n",
       "      <td>NaN</td>\n",
       "      <td>NaN</td>\n",
       "      <td>NaN</td>\n",
       "      <td>NaN</td>\n",
       "    </tr>\n",
       "    <tr>\n",
       "      <th>4</th>\n",
       "      <td>5</td>\n",
       "      <td>2020.03.05.</td>\n",
       "      <td>A901023303</td>\n",
       "      <td>A9010233</td>\n",
       "      <td>2018</td>\n",
       "      <td>1</td>\n",
       "      <td>1</td>\n",
       "      <td>2</td>\n",
       "      <td>A901</td>\n",
       "      <td>2</td>\n",
       "      <td>...</td>\n",
       "      <td>48.430128</td>\n",
       "      <td>580.848469</td>\n",
       "      <td>0.026089</td>\n",
       "      <td>0.877007</td>\n",
       "      <td>0.305087</td>\n",
       "      <td>6.082442</td>\n",
       "      <td>10.749817</td>\n",
       "      <td>1.0</td>\n",
       "      <td>1.0</td>\n",
       "      <td>1.0</td>\n",
       "    </tr>\n",
       "  </tbody>\n",
       "</table>\n",
       "<p>5 rows × 737 columns</p>\n",
       "</div>"
      ],
      "text/plain": [
       "   Unnamed: 0        mod_d          ID    ID_fam  year  region  town_t  apt_t  \\\n",
       "0           1  2020.03.05.  A901020501  A9010205  2018       1       1      2   \n",
       "1           2  2020.03.05.  A901021301  A9010213  2018       1       1      2   \n",
       "2           3  2020.03.05.  A901021302  A9010213  2018       1       1      2   \n",
       "3           4  2020.03.05.  A901022601  A9010226  2018       1       1      2   \n",
       "4           5  2020.03.05.  A901023303  A9010233  2018       1       1      2   \n",
       "\n",
       "    psu  sex  ...    N_VA_RAE      N_CAROT     N_RETIN      N_B1      N_B2  \\\n",
       "0  A901    1  ...  115.820413   494.382289   74.621889  0.664332  0.509876   \n",
       "1  A901    1  ...  197.537509   928.975532  120.122882  1.175553  1.217959   \n",
       "2  A901    2  ...  601.616567  4168.181635  254.268098  0.638100  1.337223   \n",
       "3  A901    2  ...         NaN          NaN         NaN       NaN       NaN   \n",
       "4  A901    2  ...   48.430128   580.848469    0.026089  0.877007  0.305087   \n",
       "\n",
       "      N_NIAC      N_VITC  LF_secur_y  LF_BUYER  LF_SAFE  \n",
       "0   4.700086    5.846040         1.0       2.0      1.0  \n",
       "1  16.821098  109.102194         1.0       1.0      1.0  \n",
       "2   4.785608   96.546711         1.0       1.0      1.0  \n",
       "3        NaN         NaN         NaN       NaN      NaN  \n",
       "4   6.082442   10.749817         1.0       1.0      1.0  \n",
       "\n",
       "[5 rows x 737 columns]"
      ]
     },
     "execution_count": 3,
     "metadata": {},
     "output_type": "execute_result"
    }
   ],
   "source": [
    "data.head()"
   ]
  },
  {
   "cell_type": "code",
   "execution_count": 4,
   "metadata": {},
   "outputs": [
    {
     "data": {
      "text/plain": [
       "(7992, 737)"
      ]
     },
     "execution_count": 4,
     "metadata": {},
     "output_type": "execute_result"
    }
   ],
   "source": [
    "data.shape"
   ]
  },
  {
   "cell_type": "code",
   "execution_count": 5,
   "metadata": {},
   "outputs": [
    {
     "data": {
      "text/plain": [
       "Index(['Unnamed: 0', 'mod_d', 'ID', 'ID_fam', 'year', 'region', 'town_t',\n",
       "       'apt_t', 'psu', 'sex',\n",
       "       ...\n",
       "       'N_VA_RAE', 'N_CAROT', 'N_RETIN', 'N_B1', 'N_B2', 'N_NIAC', 'N_VITC',\n",
       "       'LF_secur_y', 'LF_BUYER', 'LF_SAFE'],\n",
       "      dtype='object', length=737)"
      ]
     },
     "execution_count": 5,
     "metadata": {},
     "output_type": "execute_result"
    }
   ],
   "source": [
    "data.columns"
   ]
  },
  {
   "cell_type": "markdown",
   "metadata": {},
   "source": [
    "## 2. 설문항목과 관계없는 변수 지우기"
   ]
  },
  {
   "cell_type": "markdown",
   "metadata": {},
   "source": [
    "### 2-1. 제거된 기본변수\n",
    "- mod_d : 최종 DB 수정일\n",
    "- ID : 개인 아이디\n",
    "- ID_fam : 가구 아이디\n",
    "- year : 조사연도\n",
    "- wt : 가중치 항목들"
   ]
  },
  {
   "cell_type": "code",
   "execution_count": 6,
   "metadata": {},
   "outputs": [],
   "source": [
    "data.drop(['Unnamed: 0', 'ID', 'ID_fam', 'year', 'wt_hs','wt_itvex','wt_pft','wt_vt','wt_nn','wt_ntr','wt_tot',\n",
    "           'wt_pfnt','wt_pfvt','wt_pfvtnt','wt_vtnt','wt_nnnt','kstrata'], axis='columns', inplace=True)"
   ]
  },
  {
   "cell_type": "markdown",
   "metadata": {},
   "source": [
    "### 2-2. 제거된 건강설문조사변수\n",
    "- 주관식 부분(ex : 소득액, 만 00세 등)은 모두 제거한다.\n",
    "- ainc_1 : 가구총소득(개방형)_소득액\n",
    "- ainc : 월평균 가구총소득\n",
    "- id_F : 아버지 아이디\n",
    "- id_M : 어머니 아이디\n",
    "- D_2_wk : 최근2주간 불편감일수\n",
    "- DI1_ag : 고혈압 진단시기\n",
    "- DI2_ag : 이상지질혈증 진단시기\n",
    "- DI3_ag : 뇌졸중 진단시기\n",
    "- DI5_ag : 심근경색증 진단시기\n",
    "- DI6_ag : 협심증 진단시기\n",
    "- DM2_ag : 골관절염 진단시기\n",
    "- DM3_ag : 류마티스성 관절염 진단시기\n",
    "- DM4_ag : 골다공증 진단시기\n",
    "- DJ2_ag : 폐결핵 진단시기\n",
    "- DJ4_ag : 천식 진단시기\n",
    "- DE1_ag : 당뇨병 진단시기\n",
    "- DE2_ag : 갑상선 질환 진단시기\n",
    "- DC1_ag : 위암 진단시기\n",
    "- DC2_ag : 간암 진단시기\n",
    "- DC3_ag : 대장암 진단시기\n",
    "- DC4_ag : 유방암 진단시기\n",
    "- DC5_ag : 자궁경부암 진단시기\n",
    "- DC6_ag : 폐얌 진단시기\n",
    "- DC7_ag : 갑상선암 진단시기\n",
    "- DC11_ag : 기타암1 진단시기\n",
    "- DC12_ag : 기타암2 진단시기\n",
    "- DF2_ag : 우울증 진단시기\n",
    "- DL1_ag : 아토피피부염 진단시기\n",
    "- DJ8_ag : 알레르기비염 진단시기(소아,청소년 포함)\n",
    "- DJ6_ag : 부비동염 진단시기(소아,청소년 포함)\n",
    "- DH4_ag : 중이염 진단시기(소아,청소년 포함)\n",
    "- DH2_ag : 백내장 진단시기\n",
    "- DH3_ag : 녹내장 진단시기\n",
    "- DH6_ag : 황반변성 진단시기\n",
    "- DN1_ag : 신부전 진단시기\n",
    "- DK8_ag : B형간염 진단시기\n",
    "- DK9_ag : C형간염 진단시기\n",
    "- DK4_ag : 간경변증 진단시기\n",
    "- DI9_ya : (소아, 청소년) 선천성심장질환 진단연령\n",
    "- DF1_ya : (소아, 청소년) 주의력결핍장애 진단연령\n",
    "- DN6_ya : (소아, 청소년) 요로감염 진단연령\n",
    "- DJ9_ya : (소아, 청소년) 폐렴 진단연령\n",
    "- BH9_13 : (소아인플루엔자(독감) 예방접종 횟수\n",
    "- BH9_14_1_01 ~ BH9_14_1_03 : 인플루엔자(독감)1~3 접종시기-년도\n",
    "- BH9_14_2_01 ~ BH9_14_2_03 : 인플루엔자(독감)1~3 접종시기-월\n",
    "- LQ1_mn : 최근 1달간 와병일수\n",
    "- LQ2_mn : 최근 1달간 결근일수\n",
    "- EQ5D : EQ-5D index***\n",
    "- AC3 : 손상 횟수\n",
    "- AC3_1_01~ AC3_1_10 : 손상1~10 발생시기-년도\n",
    "- AC3_2_01~ AC3_2_10 : 손상1~10 발생시기-월\n",
    "- AC8_2_01~ AC8_2_10 : 손상1~10 와병일수 \n",
    "- AC8_3_01~ AC8_3_10 : 손상1~10 결석일수 \n",
    "- MH1_1 : 입원이용 횟수\n",
    "- MO1_1 : 외래이용 횟수\n",
    "- EC_wht_23 : 주당 평균 근로시간\n",
    "- BD2 : (만12세이상) 음주 시작 연령\n",
    "- BD2_14 : (만12세이상) 한번에 마시는 음주량_잔\n",
    "- BA2_2_2 : (성인) 1년간 음주운전 횟수: 자전거\n",
    "- BA2_2_4 : (성인) 1년간 음주운전 횟수: 오토바이\n",
    "- BA2_2_6 : (성인) 1년간 음주운전 횟수: 자동차\n",
    "- BP16_11 ~ 14 / BP16_21 ~ 24 / Total_slp_wk / Total_slp_wd : 2-13 정신건강 주관식변수\n",
    "- BS2_1 : (성인) 흡연 시작연령\n",
    "- BS2_2: (성인) 매일 흡연 시작연령\n",
    "- BS3_2 : (성인) 하루평균흡연량\n",
    "- BS3_3 : (성인) 가끔흡연자 최근 1달간 흡연일수\n",
    "- BS6_2 : (성인) 과거흡연자 흡연기간(월 환산)\n",
    "- BS6_2_1 : (성인) 과거흡연자 흡연기간(연)\n",
    "- BS6_2_2 : (성인) 과거흡연자 흡연기간(월)\n",
    "- BS6_3 : (성인) 과거흡연자 하루평균 흡연량\n",
    "- BS6_4 : (성인) 과거흡연자 금연기간(월 환산)\n",
    "- BS6_4_1 : (성인) 과거흡연자 금연기간(연)\n",
    "- BS6_4_2 : (성인) 과거흡연자 금연기간(월)\n",
    "- BS2 : (청소년) 담배 한두 모금 피운 연령\n",
    "- BS10_2 : (청소년) 1달간 흡연일수\n",
    "- BS10_3 : (청소년) 1달간 하루흡연량\n",
    "- BE3_72 / BE3_73 / BE3_74 / BE3_82 / BE3_83 / BE3_84 / BE3_92 / BE3_93 / BE3_94 / BE3_76 / BE3_77 / BE3_78 / BE3_86 / BE3_87 / BE3_88 / BE8_1 / BE8_2 / BE3_32 / BE3_33 : 2-15 신체활동 주관식변수\n",
    "- LW_mp_a / LW_ms_a / LW_pr_1 / LW_mt_a1 / LW_mt_a2 / LW_br_ch / LW_br_dur / LW_br_yy / LW_br_mm : 2-16 여성건강 주관식변수"
   ]
  },
  {
   "cell_type": "code",
   "execution_count": 7,
   "metadata": {},
   "outputs": [],
   "source": [
    "data.drop(['ainc_1', 'ainc', 'id_F', 'id_M', 'D_2_wk','DI1_ag','DI2_ag','DI3_ag','DI5_ag','DI6_ag','DM2_ag','DM3_ag','DM4_ag',\n",
    "           'DJ2_ag','DJ4_ag','DE1_ag','DE2_ag','DC1_ag','DC2_ag', 'DC3_ag','DC4_ag','DC5_ag','DC6_ag','DC7_ag','DC11_ag','DC12_ag',\n",
    "           'DF2_ag','DL1_ag','DJ8_ag','DJ6_ag','DH4_ag','DH2_ag','DH3_ag','DH6_ag','DN1_ag','DK8_ag','DK9_ag','DK4_ag','DI9_ya','DF1_ya',\n",
    "           'DN6_ya','DJ9_ya','BH9_13','BH9_14_1_01','BH9_14_1_02','BH9_14_1_03','BH9_14_2_01','BH9_14_2_02','BH9_14_2_03',\n",
    "           'LQ1_mn','LQ2_mn','EQ5D','AC3','AC3_1_01','AC3_2_01','AC3_3_01','AC3_3e_01','AC8_1_01','AC8_1e_01',\n",
    "           'AC3_4_01','AC8_2w_01','AC8_2_01','AC8_3w_01','AC8_3_01','AC3_1_02','AC3_2_02','AC3_3_02','AC3_3e_02','AC8_1_02','AC8_1e_02',\n",
    "           'AC3_4_02','AC8_2w_02','AC8_2_02','AC8_3w_02','AC8_3_02','AC3_1_03','AC3_2_03','AC3_3_03','AC3_3e_03','AC8_1_03','AC8_1e_03',\n",
    "           'AC3_4_03','AC8_2w_03','AC8_2_03','AC8_3w_03','AC8_3_03','MH1_1','MO1_1','EC_wht_23','BD2','BD2_14',\n",
    "           'BA2_2_2','BA2_2_4','BA2_2_6','BP16_11','BP16_12','BP16_13','BP16_14','BP16_21','BP16_22','BP16_23',\n",
    "           'BP16_24','Total_slp_wk','Total_slp_wd', 'BS2_1','BS2_2','BS3_2','BS3_3','BS6_2','BS6_2_1','BS6_2_2',\n",
    "           'BS6_3','BS6_4','BS6_4_1','BS6_4_2','BS2','BS10_2','BS10_3','BE3_72','BE3_73','BE3_74','BE3_81','BE3_82',\n",
    "           'BE3_83','BE3_84','BE3_91','BE3_92','BE3_93','BE3_94','BE3_75','BE3_76','BE3_77','BE3_78','BE3_85','BE3_86',\n",
    "           'BE3_87','BE3_88','BE8_1','BE8_2','BE3_31','BE3_32','BE3_33','LW_mp_a','LW_ms_a','LW_pr','LW_pr_1','LW_mt',\n",
    "           'LW_mt_a1','LW_mt_a2','LW_br','LW_br_ch','LW_br_dur','LW_br_yy','LW_br_mm'\n",
    "], axis='columns', inplace=True)"
   ]
  },
  {
   "cell_type": "markdown",
   "metadata": {},
   "source": [
    "### 2-3. 제거된 검진조사변수\n",
    "- HE_fst : 공복시간\n",
    "- HE_dprg : 임신개월수\n",
    "- HE_PLS : 15초 맥박수\n",
    "- HE_mPLS : 60초 맥박수\n",
    "- HE_sbp1 : 1차 수축기 혈압\n",
    "- HE_dbp1 : 1차 이완기 혈압\n",
    "- HE_sbp2 : 2차 수축기 혈압\n",
    "- HE_dbp2 : 2차 이완기 혈압\n",
    "- HE_sbp3 : 3차 수축기 혈압\n",
    "- HE_dbp3 : 3차 이완기 혈압\n",
    "- HE_sbp : 최종 수축기 혈압(2,3차 평균)\n",
    "- HE_dbp : 최종 이완기 혈압(2,3차 평균)\n",
    "- HE_ht : 신장\n",
    "- HE_wt : 체중\n",
    "- HE_wc : 허리둘레\n",
    "- HE_BMI : 체질량지수\n",
    "- HE_glu : 공복혈당\n",
    "- HE_HbA1c : 당화혈색소\n",
    "- HE_chol : 총콜레스테롤\n",
    "- HE_HDL_st2 : HDL-콜레스테롤(보정값)\n",
    "- HE_TG : 중성지방\n",
    "- HE_LDL_drct : LDL-콜레스테롤(직접검사)\n",
    "- HE_HBsAg : B형간염표면항원(수치)\n",
    "- HE_ast : AST(SGOT)\n",
    "- HE_alt : ALT(SGPT)\n",
    "- HE_hcv : C형간염항체(수치)\n",
    "- HE_HB / HE_HB / HE_BUN / HE_crea / HE_WBC / HE_RBC / HE_Bplt / HE_hsCRP /HE_Uacid / HE_Folate / HE_VitA / HE_VitA / HE_Uph / HE_Usg / HE_Ucot / HE_NNAL / HE_UCREA / HE_UNa / HE_Ukal / HE_cough2 / HE_sput2 / HE_PFTag / T_NQ_PH_T / T_NQ_OCP_T / T_NQ_LS_T / GS_mea_r_1 / GS_mea_r_2 / GS_mea_r_3 / GS_mea_l_1 / GS_mea_l_2 / GS_mea_l_3 : 그 외 주관식 변수"
   ]
  },
  {
   "cell_type": "code",
   "execution_count": 8,
   "metadata": {},
   "outputs": [],
   "source": [
    "data.drop(['HE_fst', 'HE_dprg', 'HE_PLS', 'HE_mPLS', 'HE_sbp1','HE_dbp1','HE_sbp2','HE_dbp2','HE_sbp3','HE_dbp3','HE_sbp','HE_dbp','HE_ht',\n",
    "           'HE_wt','HE_wc','HE_BMI','HE_glu','HE_HbA1c','HE_chol', 'HE_HDL_st2','HE_TG','HE_LDL_drct','HE_HBsAg','HE_ast','HE_alt','HE_hcv',\n",
    "           'HE_HB','HE_HB','HE_BUN','HE_crea','HE_WBC','HE_RBC','HE_Bplt','HE_hsCRP','HE_Uacid','HE_Folate','HE_VitA',\n",
    "           'HE_VitA','HE_Uph','HE_Usg','HE_Ucot','HE_NNAL','HE_UCREA','HE_UNa','HE_Ukal',\n",
    "           'HE_cough2','HE_sput2','HE_PFTag','T_NQ_PH_T','T_NQ_OCP_T','T_NQ_LS_T','GS_mea_r_1','GS_mea_r_2', 'GS_mea_r_3',\n",
    "           'GS_mea_l_1','GS_mea_l_2','GS_mea_l_3'\n",
    "], axis='columns', inplace=True)"
   ]
  },
  {
   "attachments": {},
   "cell_type": "markdown",
   "metadata": {},
   "source": [
    "### 2-4. 제거된 영양조사변수\n",
    "- Y_BTH_WT / Y_BTH_WT / Y_MTM_S1 / Y_MTM_S2 / Y_MTM_D1 / Y_MTM_D2 / Y_FM_S1 / Y_FM_S2 / Y_FM_D1 / Y_FM_D2 / Y_MLK_ST / Y_WN_ST / N_MEAL_T / N_DIET / N_DIET_WHY / N_DT_DS / N_DT_ETC / N_DUSUAL / N_WAT_C / N_PRG /\tN_BFD_Y\tN_DAY /\tN_INTK /\tN_EN /\tN_WATER\tN_PROT / N_FAT / N_SFA / N_MUFA\t/ N_PUFA / N_N3\tN_N6 / N_CHOL / N_CHO / N_TDF / N_SUGAR / N_CA / N_PHOS / N_FE / N_K / N_VA / N_VA_RAE / N_CAROT / N_RETIN  /N_B1 / N_B2 / N_NIAC / N_VITC : 나트륨 섭취 변수를 제외한 주관식 변수"
   ]
  },
  {
   "cell_type": "code",
   "execution_count": 9,
   "metadata": {},
   "outputs": [],
   "source": [
    "data.drop(['N_DIET','N_DIET_WHY','N_DT_DS','N_DT_ETC','N_DUSUAL','N_WAT_C','N_PRG','N_BFD_Y','N_DAY','N_INTK','N_EN','N_WATER',\n",
    "           'N_PROT','N_FAT','N_SFA','N_MUFA','N_PUFA','N_N3','N_N6','N_CHOL','N_CHO','N_TDF','N_SUGAR','N_CA','N_PHOS','N_FE',\n",
    "           'N_K','N_VA','N_VA_RAE','N_CAROT','N_RETIN','N_B1','N_B2','N_NIAC','N_VITC'\n",
    "], axis='columns', inplace=True)"
   ]
  },
  {
   "cell_type": "code",
   "execution_count": 11,
   "metadata": {},
   "outputs": [],
   "source": [
    "## 누락 데이터 개수 구하기\n",
    "missing_data = data.isnull()\n",
    "\n",
    "# '누락 데이터 개수' 데이터프레임을 만들기 위해 새로운 list 생성\n",
    "column = missing_data.columns\n",
    "missing_value = []\n",
    "\n",
    "# 누락 데이터 개수를 세고 missing_value에 추가해준다\n",
    "for col in missing_data.columns:\n",
    "    missing_count = missing_data[col].value_counts()\n",
    "    try:\n",
    "        missing_value.append(missing_count[True])\n",
    "    except:\n",
    "        missing_value.append(0)\n",
    "\n",
    "# 데이터프레임 생성\n",
    "missing_dic = {'col_name' : column, 'value' : missing_value}\n",
    "missing = pd.DataFrame(missing_dic)\n",
    "\n",
    "# 결측치가 많은 순서대로 정렬\n",
    "missing = missing.sort_values(by = 'value', ascending = False)\n",
    "\n",
    "missing.to_csv('missing_1.csv', encoding='cp949', index = False)"
   ]
  },
  {
   "cell_type": "code",
   "execution_count": 12,
   "metadata": {},
   "outputs": [
    {
     "data": {
      "text/plain": [
       "0           BM13_6\n",
       "1           DE1_35\n",
       "2          BS12_45\n",
       "3      BH9_14_4_03\n",
       "4          BS12_35\n",
       "          ...     \n",
       "103      HE_STRfh1\n",
       "104      HE_IHDfh3\n",
       "105      HE_IHDfh2\n",
       "106        HE_rPLS\n",
       "107        HE_nARM\n",
       "Name: col_name, Length: 108, dtype: object"
      ]
     },
     "execution_count": 12,
     "metadata": {},
     "output_type": "execute_result"
    }
   ],
   "source": [
    "tempt = missing.reset_index()\n",
    "tempt.drop(['index'], axis=1, inplace = True)\n",
    "\n",
    "# drop_name에 제거할 행 이름 담는다\n",
    "drop_name = tempt['col_name']\n",
    "drop_name = drop_name[0:108]\n",
    "drop_name"
   ]
  },
  {
   "cell_type": "code",
   "execution_count": 13,
   "metadata": {},
   "outputs": [
    {
     "data": {
      "text/plain": [
       "(7992, 368)"
      ]
     },
     "execution_count": 13,
     "metadata": {},
     "output_type": "execute_result"
    }
   ],
   "source": [
    "# data에서 drop_name에 포함된 att 제거(HE_nARM 위까지 제거)\n",
    "for col in drop_name:\n",
    "    if(col in data.columns):\n",
    "        data.drop(col, axis = 1, inplace = True)\n",
    "        \n",
    "data.shape"
   ]
  },
  {
   "cell_type": "code",
   "execution_count": 14,
   "metadata": {},
   "outputs": [
    {
     "data": {
      "text/plain": [
       "(6078, 368)"
      ]
     },
     "execution_count": 14,
     "metadata": {},
     "output_type": "execute_result"
    }
   ],
   "source": [
    "data.dropna(axis=0, inplace = True)\n",
    "\n",
    "data.shape"
   ]
  },
  {
   "cell_type": "code",
   "execution_count": 16,
   "metadata": {},
   "outputs": [],
   "source": [
    "data.to_excel('hn18_first.xlsx', encoding='cp949', index = False)"
   ]
  }
 ],
 "metadata": {
  "kernelspec": {
   "display_name": "Python 3",
   "language": "python",
   "name": "python3"
  },
  "language_info": {
   "codemirror_mode": {
    "name": "ipython",
    "version": 3
   },
   "file_extension": ".py",
   "mimetype": "text/x-python",
   "name": "python",
   "nbconvert_exporter": "python",
   "pygments_lexer": "ipython3",
   "version": "3.8.3"
  }
 },
 "nbformat": 4,
 "nbformat_minor": 4
}
